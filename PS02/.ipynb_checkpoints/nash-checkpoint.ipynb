{
 "cells": [
  {
   "cell_type": "markdown",
   "id": "cfe0a254-aaf1-4f47-8edd-2053134d9058",
   "metadata": {},
   "source": [
    "# Problem Set 2: Pure Strategy Nash Equilibrium - Ex Ante Code"
   ]
  },
  {
   "cell_type": "code",
   "execution_count": 1,
   "id": "b291fbb3-3a01-4288-8435-8f3a09ad4e4c",
   "metadata": {},
   "outputs": [],
   "source": [
    "import numpy as np\n",
    "import pandas as pd \n",
    "import matplotlib.pyplot as plt "
   ]
  },
  {
   "cell_type": "code",
   "execution_count": 2,
   "id": "cbe6ae6a-72bf-4259-b1c5-ff120f6c6841",
   "metadata": {},
   "outputs": [],
   "source": [
    "# useful printing function \n",
    "def print_payoffs(U1, U2): \n",
    "    na1,na2 = U1.shape\n",
    "    tuple_list = [[(U1[r,c],U2[r,c]) for c in range(na2)] for r in range(na1)]\n",
    "    return pd.DataFrame(tuple_list) "
   ]
  },
  {
   "cell_type": "markdown",
   "id": "b748a28e-e26d-40d5-a6ee-6009f62bd71a",
   "metadata": {},
   "source": [
    "Import the module we wrote last time for doing IESDS. "
   ]
  },
  {
   "cell_type": "code",
   "execution_count": 3,
   "id": "467e5bee-fa21-441d-8861-54cab1f255b5",
   "metadata": {
    "tags": []
   },
   "outputs": [],
   "source": [
    "from bimatrix import IESDS "
   ]
  },
  {
   "cell_type": "markdown",
   "id": "881347cb-e49d-4b9c-9d3a-192f385f643d",
   "metadata": {},
   "source": [
    "# Part 1: Solve a 3x3 game with Brute Force"
   ]
  },
  {
   "cell_type": "code",
   "execution_count": 4,
   "id": "fe58c2a8-a9a4-4118-9c63-c26132d709f5",
   "metadata": {},
   "outputs": [
    {
     "data": {
      "text/html": [
       "<div>\n",
       "<style scoped>\n",
       "    .dataframe tbody tr th:only-of-type {\n",
       "        vertical-align: middle;\n",
       "    }\n",
       "\n",
       "    .dataframe tbody tr th {\n",
       "        vertical-align: top;\n",
       "    }\n",
       "\n",
       "    .dataframe thead th {\n",
       "        text-align: right;\n",
       "    }\n",
       "</style>\n",
       "<table border=\"1\" class=\"dataframe\">\n",
       "  <thead>\n",
       "    <tr style=\"text-align: right;\">\n",
       "      <th></th>\n",
       "      <th>0</th>\n",
       "      <th>1</th>\n",
       "      <th>2</th>\n",
       "    </tr>\n",
       "  </thead>\n",
       "  <tbody>\n",
       "    <tr>\n",
       "      <th>0</th>\n",
       "      <td>(7, 7)</td>\n",
       "      <td>(3, 0)</td>\n",
       "      <td>(1, 6)</td>\n",
       "    </tr>\n",
       "    <tr>\n",
       "      <th>1</th>\n",
       "      <td>(2, 8)</td>\n",
       "      <td>(5, 4)</td>\n",
       "      <td>(9, 3)</td>\n",
       "    </tr>\n",
       "    <tr>\n",
       "      <th>2</th>\n",
       "      <td>(3, 0)</td>\n",
       "      <td>(5, 4)</td>\n",
       "      <td>(2, 1)</td>\n",
       "    </tr>\n",
       "  </tbody>\n",
       "</table>\n",
       "</div>"
      ],
      "text/plain": [
       "        0       1       2\n",
       "0  (7, 7)  (3, 0)  (1, 6)\n",
       "1  (2, 8)  (5, 4)  (9, 3)\n",
       "2  (3, 0)  (5, 4)  (2, 1)"
      ]
     },
     "execution_count": 4,
     "metadata": {},
     "output_type": "execute_result"
    }
   ],
   "source": [
    "U1 = np.array([\n",
    "    [7,3,1],\n",
    "    [2,5,9],\n",
    "    [3,5,2]\n",
    "])\n",
    "U2 = np.array([\n",
    "    [7,0,6],\n",
    "    [8,4,3],\n",
    "    [0,4,1]\n",
    "])\n",
    "na1,na2 = U1.shape\n",
    "print_payoffs(U1, U2)"
   ]
  },
  {
   "cell_type": "markdown",
   "id": "880f816c-1d3b-4941-9107-dd6fd20a5680",
   "metadata": {},
   "source": [
    "Fill out `BR_1(U1)`: find the best response(s) to each of the opponents actions. \n",
    "\n",
    "***Hints:*** \n",
    "* `np.argmax(U1, axis=0)` returns the index to the row that obtains the maximum value for each column of `U1`. However, when there are several, it just returns the maximum. We need all of them. \n",
    "* Try a combination of `np.max(U1, axis=0)` and `np.where()`. "
   ]
  },
  {
   "cell_type": "code",
   "execution_count": 5,
   "id": "69a178c0-c124-4968-887b-d3c58800bcba",
   "metadata": {},
   "outputs": [],
   "source": [
    "def BR_1(U1):\n",
    "    '''Best response for Player 1 (row player)\n",
    "    Output:\n",
    "        br: list (len=na2) of lists. \n",
    "            Each sub-list has variable length from 1 to a maximum of na1. \n",
    "            There is 1 element in br[a2] if there is a unique best response. \n",
    "            There are na1 elements in br[a2] if all strategies of player 1 \n",
    "            give the same payoff. \n",
    "    '''\n",
    "    na1, na2 = U1.shape\n",
    "    br = [] # this will be the output \n",
    "    u_max = np.max(U1, axis=0)\n",
    "    \n",
    "    for a2 in range(na2): \n",
    "        br_a2 = np.where(U1[:,a2] == u_max[a2])[0] # FILL IN \n",
    "        br.append(br_a2)\n",
    "    \n",
    "    return br"
   ]
  },
  {
   "cell_type": "code",
   "execution_count": 6,
   "id": "c03d5b44-ccbf-4406-8769-b5d1449c3f2a",
   "metadata": {},
   "outputs": [],
   "source": [
    "br1 = BR_1(U1)\n",
    "br2 = BR_1(U2.T) # FILL IN: how can we use BR_1 for player 2? "
   ]
  },
  {
   "cell_type": "code",
   "execution_count": 7,
   "id": "981975e5-f31a-4879-821d-df8144b8ca2f",
   "metadata": {},
   "outputs": [
    {
     "data": {
      "text/plain": [
       "[array([0], dtype=int64), array([1, 2], dtype=int64), array([1], dtype=int64)]"
      ]
     },
     "execution_count": 7,
     "metadata": {},
     "output_type": "execute_result"
    }
   ],
   "source": [
    "br1"
   ]
  },
  {
   "cell_type": "code",
   "execution_count": 8,
   "id": "111e6cad-9eb0-4a6e-a2b8-3976933b2a2e",
   "metadata": {},
   "outputs": [
    {
     "data": {
      "text/plain": [
       "[array([0], dtype=int64), array([0], dtype=int64), array([1], dtype=int64)]"
      ]
     },
     "execution_count": 8,
     "metadata": {},
     "output_type": "execute_result"
    }
   ],
   "source": [
    "br2"
   ]
  },
  {
   "cell_type": "markdown",
   "id": "cfdcf1be-dd6b-423a-9694-3bc8f6a8d976",
   "metadata": {},
   "source": [
    "From these two sets, we see that the actions with indices (0,0) and (2,1) are the Nash equilibria of the game. But let's write a function to find those. \n",
    "\n",
    "We are looking for all $(a_1,a_2) \\in S$, such that $a_1 \\in BR_1(a_2)$  and $a_2 \\in BR_2(a_1)$. "
   ]
  },
  {
   "cell_type": "code",
   "execution_count": 9,
   "id": "477e6468-50b3-4676-85cf-01952f99e7bc",
   "metadata": {},
   "outputs": [],
   "source": [
    "def nash_eq_brute_force(U1, U2): \n",
    "    '''\n",
    "    Output:\n",
    "        NE: list of 2-tuples. There is one tuple per equilibrium, so len(NE) is the number of equilibria found. \n",
    "    '''\n",
    "    # FILL IN: use function from above \n",
    "    br1 = BR_1(U1) \n",
    "    br2 = BR_1(U2.T) \n",
    "    \n",
    "    # FILL IN \n",
    "    # based on the two list-of-lists, br1 and br2, create the list of tuples (or 2-vectors) \n",
    "    # that satisfy the mutual best response conditions\n",
    "    na1,na2 = U1.shape\n",
    "    \n",
    "    NE = [(a1,a2) for a1 in range(na1) for a2 in range(na2) if (a1 in br1[a2] and a2 in br2[a1])] \n",
    "    return NE"
   ]
  },
  {
   "cell_type": "code",
   "execution_count": 10,
   "id": "a6c77a04-3807-4e6a-a566-407c5a0eedec",
   "metadata": {},
   "outputs": [
    {
     "data": {
      "text/plain": [
       "[(0, 0), (2, 1)]"
      ]
     },
     "execution_count": 10,
     "metadata": {},
     "output_type": "execute_result"
    }
   ],
   "source": [
    "nash_eq_brute_force(U1, U2)"
   ]
  },
  {
   "cell_type": "markdown",
   "id": "8e23450d-00e3-4418-ab6b-f8deab4f39bf",
   "metadata": {},
   "source": [
    "# Part 2: Cournot Example from Tadelis\n",
    "\n",
    "From Tadelis 4.2.2, pp. 65-67: \n",
    "$$\n",
    "\\begin{align}\n",
    "c_i(q_i) &= 10q_i, \\quad i \\in \\{ 1, 2 \\} \n",
    "\\\\\n",
    "p(Q) &= 100-Q, \\quad Q = q_1 + q_2.\n",
    "\\\\\n",
    "\\pi_i(q_i,q_j) &= q_i p(q_i + q_j) - c_i(q_i) \n",
    "\\\\ \n",
    "&= 90 q_i - q_i(q_i + q_j).\n",
    "\\end{align}\n",
    "$$"
   ]
  },
  {
   "cell_type": "markdown",
   "id": "9f488993-aab2-433b-8ef7-58eac357c2bc",
   "metadata": {},
   "source": [
    "0. Set up the grid over which we solve. "
   ]
  },
  {
   "cell_type": "code",
   "execution_count": 11,
   "id": "df83404a-e8dc-4bd7-a52e-39cc88d38d47",
   "metadata": {},
   "outputs": [],
   "source": [
    "qmin = 0 \n",
    "qmax = 90\n",
    "Np = 100 # number of grid points \n",
    "aa1 = np.linspace(qmin, qmax, Np)\n",
    "aa2 = aa1.copy() # symmetric action space"
   ]
  },
  {
   "cell_type": "markdown",
   "id": "a1c07a72-0e34-43e7-9b23-7d462569425b",
   "metadata": {},
   "source": [
    "Function to compute profits to a firm given its own quantity, $q_i$, and the competitor's quantity, $q_j$. "
   ]
  },
  {
   "cell_type": "code",
   "execution_count": 12,
   "id": "b861cfc6-9525-4f50-b898-677942736831",
   "metadata": {},
   "outputs": [],
   "source": [
    "def profit(qi, qj):\n",
    "    pi_i = 90*qi - qi*(qi + qj) # FILL IN: profit to firm i (scalar)\n",
    "    return pi_i "
   ]
  },
  {
   "cell_type": "markdown",
   "id": "c833c07e-caee-4ad0-a154-67cd3e675619",
   "metadata": {},
   "source": [
    "1. Compute the profits for all strategy profiles, $(s_1, s_2) \\in S$. I.e. for all combinations of strategies. "
   ]
  },
  {
   "cell_type": "code",
   "execution_count": 13,
   "id": "89a6403b-ac1d-4772-86e5-2b5917f98e81",
   "metadata": {},
   "outputs": [],
   "source": [
    "# populate the arrays of dimension Np*Np (similar to any other bimatrix game)\n",
    "pi1 = np.empty((Np,Np))\n",
    "pi2 = np.empty((Np,Np))\n",
    "for i1,a1 in enumerate(aa1): \n",
    "    for i2,a2 in enumerate(aa2): \n",
    "        pi1[i1,i2] = profit(a1,a2) # FILL IN (use the profit function) \n",
    "        pi2[i1,i2] = profit(a2,a1) # FILL IN "
   ]
  },
  {
   "cell_type": "markdown",
   "id": "3f87928a-50b2-4fc2-9bfe-07d3e7ed026a",
   "metadata": {},
   "source": [
    "2. **Plot** the profit of player 1 for a single fixed value of player 2's action. "
   ]
  },
  {
   "cell_type": "code",
   "execution_count": 14,
   "id": "86b5194e-0316-4030-98f2-b4765ce41a7e",
   "metadata": {},
   "outputs": [
    {
     "data": {
      "image/png": "[encoded data removed]",
      "text/plain": [
       "<Figure size 640x480 with 1 Axes>"
      ]
     },
     "metadata": {},
     "output_type": "display_data"
    }
   ],
   "source": [
    "a2 = 20 # an index: use aa2[a2] to get the corresponding value from the grid \n",
    "plt.plot(aa1, pi1[:, a2], label='Profit for 1');\n",
    "plt.axvline(aa2[a2], label='$q_2$', color='r', linestyle=':');\n",
    "plt.legend();"
   ]
  },
  {
   "cell_type": "markdown",
   "id": "4f0c716e-1a70-4411-b76f-109efcb43b87",
   "metadata": {},
   "source": [
    "## Solve by brute force\n",
    "\n",
    "Use the algorithm written earlier. "
   ]
  },
  {
   "cell_type": "code",
   "execution_count": 15,
   "id": "a8060ffb-a6e0-4370-a582-1b46b33f7386",
   "metadata": {},
   "outputs": [
    {
     "name": "stdout",
     "output_type": "stream",
     "text": [
      "Found 1 EQ\n"
     ]
    }
   ],
   "source": [
    "ne = nash_eq_brute_force(pi1,pi2)\n",
    "print(f'Found {len(ne)} EQ')"
   ]
  },
  {
   "cell_type": "code",
   "execution_count": 16,
   "id": "806199a9-dbef-4ce0-9f2e-a90f15713a78",
   "metadata": {},
   "outputs": [
    {
     "data": {
      "text/plain": [
       "[(33, 33)]"
      ]
     },
     "execution_count": 16,
     "metadata": {},
     "output_type": "execute_result"
    }
   ],
   "source": [
    "ne"
   ]
  },
  {
   "cell_type": "code",
   "execution_count": 17,
   "id": "f8e5255f-80db-4550-833e-c99e1638b356",
   "metadata": {},
   "outputs": [
    {
     "data": {
      "text/plain": [
       "792"
      ]
     },
     "execution_count": 17,
     "metadata": {},
     "output_type": "execute_result"
    }
   ],
   "source": [
    "q1,q2 = ne[0]\n",
    "qstar_brute_force = np.array([q1, q2])\n",
    "profit(q1, q2)"
   ]
  },
  {
   "cell_type": "markdown",
   "id": "e9ee2047-f7c0-4a92-af1a-4320127d9244",
   "metadata": {},
   "source": [
    "## Solve with IESDS"
   ]
  },
  {
   "cell_type": "code",
   "execution_count": 18,
   "id": "29343100-0b0a-44ef-ac07-df8338723b70",
   "metadata": {},
   "outputs": [
    {
     "name": "stdout",
     "output_type": "stream",
     "text": [
      "a=51 is strictly dominated by a=48\n",
      "a=52 is strictly dominated by a=48\n",
      "a=53 is strictly dominated by a=46\n",
      "a=54 is strictly dominated by a=46\n",
      "a=55 is strictly dominated by a=45\n",
      "a=56 is strictly dominated by a=44\n",
      "a=57 is strictly dominated by a=43\n",
      "a=58 is strictly dominated by a=41\n",
      "a=59 is strictly dominated by a=41\n",
      "a=60 is strictly dominated by a=39\n",
      "a=61 is strictly dominated by a=39\n",
      "a=62 is strictly dominated by a=37\n",
      "a=63 is strictly dominated by a=37\n",
      "a=64 is strictly dominated by a=36\n",
      "a=65 is strictly dominated by a=35\n",
      "a=66 is strictly dominated by a=34\n",
      "a=67 is strictly dominated by a=33\n",
      "a=68 is strictly dominated by a=32\n",
      "a=69 is strictly dominated by a=30\n",
      "a=70 is strictly dominated by a=30\n",
      "a=71 is strictly dominated by a=28\n",
      "a=72 is strictly dominated by a=27\n",
      "a=73 is strictly dominated by a=26\n",
      "a=74 is strictly dominated by a=26\n",
      "a=75 is strictly dominated by a=24\n",
      "a=76 is strictly dominated by a=23\n",
      "a=77 is strictly dominated by a=23\n",
      "a=78 is strictly dominated by a=22\n",
      "a=79 is strictly dominated by a=21\n",
      "a=80 is strictly dominated by a=20\n",
      "a=81 is strictly dominated by a=19\n",
      "a=82 is strictly dominated by a=17\n",
      "a=83 is strictly dominated by a=17\n",
      "a=84 is strictly dominated by a=15\n",
      "a=85 is strictly dominated by a=15\n",
      "a=86 is strictly dominated by a=14\n",
      "a=87 is strictly dominated by a=12\n",
      "a=88 is strictly dominated by a=12\n",
      "a=89 is strictly dominated by a=11\n",
      "a=90 is strictly dominated by a=9\n",
      "a=91 is strictly dominated by a=9\n",
      "a=92 is strictly dominated by a=7\n",
      "a=93 is strictly dominated by a=6\n",
      "a=94 is strictly dominated by a=6\n",
      "a=95 is strictly dominated by a=5\n",
      "a=96 is strictly dominated by a=4\n",
      "a=97 is strictly dominated by a=2\n",
      "a=98 is strictly dominated by a=1\n",
      "a=99 is strictly dominated by a=1\n",
      "a=0 is strictly dominated by a=1\n",
      "a=1 is strictly dominated by a=2\n",
      "a=2 is strictly dominated by a=3\n",
      "a=3 is strictly dominated by a=4\n",
      "a=4 is strictly dominated by a=5\n",
      "a=5 is strictly dominated by a=6\n",
      "a=6 is strictly dominated by a=7\n",
      "a=7 is strictly dominated by a=8\n",
      "a=8 is strictly dominated by a=9\n",
      "a=9 is strictly dominated by a=10\n",
      "a=10 is strictly dominated by a=11\n",
      "a=11 is strictly dominated by a=12\n",
      "a=12 is strictly dominated by a=13\n",
      "a=13 is strictly dominated by a=14\n",
      "a=14 is strictly dominated by a=15\n",
      "a=15 is strictly dominated by a=16\n",
      "a=16 is strictly dominated by a=17\n",
      "a=17 is strictly dominated by a=18\n",
      "a=18 is strictly dominated by a=19\n",
      "a=19 is strictly dominated by a=20\n",
      "a=20 is strictly dominated by a=21\n",
      "a=21 is strictly dominated by a=22\n",
      "a=22 is strictly dominated by a=23\n",
      "a=23 is strictly dominated by a=24\n",
      "a=39 is strictly dominated by a=37\n",
      "a=40 is strictly dominated by a=36\n",
      "a=41 is strictly dominated by a=34\n",
      "a=42 is strictly dominated by a=33\n",
      "a=43 is strictly dominated by a=32\n",
      "a=44 is strictly dominated by a=32\n",
      "a=45 is strictly dominated by a=31\n",
      "a=46 is strictly dominated by a=30\n",
      "a=47 is strictly dominated by a=28\n",
      "a=48 is strictly dominated by a=28\n",
      "a=49 is strictly dominated by a=27\n",
      "a=50 is strictly dominated by a=26\n",
      "a=0 is strictly dominated by a=1\n",
      "a=1 is strictly dominated by a=2\n",
      "a=2 is strictly dominated by a=3\n",
      "a=3 is strictly dominated by a=4\n",
      "a=4 is strictly dominated by a=5\n",
      "a=5 is strictly dominated by a=6\n",
      "a=12 is strictly dominated by a=10\n",
      "a=13 is strictly dominated by a=9\n",
      "a=14 is strictly dominated by a=7\n",
      "a=0 is strictly dominated by a=1\n",
      "a=1 is strictly dominated by a=2\n",
      "a=4 is strictly dominated by a=3\n",
      "a=5 is strictly dominated by a=3\n",
      "a=0 is strictly dominated by a=1\n",
      "No further strategies to delete after 5 iterations\n"
     ]
    }
   ],
   "source": [
    "u1,u2,a1,a2 = IESDS(pi1,pi2,DOPRINT=True)"
   ]
  },
  {
   "cell_type": "code",
   "execution_count": 19,
   "id": "4a5a867e-5861-4f6d-90a6-197f6d759c11",
   "metadata": {},
   "outputs": [
    {
     "name": "stdout",
     "output_type": "stream",
     "text": [
      "we have 1 and 1 strategies that survive IESDS:\n"
     ]
    },
    {
     "data": {
      "text/plain": [
       "array([30., 30.])"
      ]
     },
     "execution_count": 19,
     "metadata": {},
     "output_type": "execute_result"
    }
   ],
   "source": [
    "print(f'we have {len(a1)} and {len(a2)} strategies that survive IESDS:')\n",
    "qstar_IESDS = np.array([aa1[a1], aa2[a2]]).flatten()\n",
    "qstar_IESDS"
   ]
  },
  {
   "cell_type": "markdown",
   "id": "4b599b78-861c-49b7-aedb-490ea4ea6386",
   "metadata": {},
   "source": [
    "## Solve by best responses\n",
    "\n",
    "By the FOC, we have for any $q_j$\n",
    "$$ \n",
    "\\begin{align}\n",
    "\\frac{\\partial \\pi_i(q_i,q_j)}{\\partial q_i} &= 0 \n",
    "\\\\\n",
    "\\Leftrightarrow \n",
    "90 - 2q_i - q_j &= 0 \n",
    "\\\\\n",
    "\\Leftrightarrow \n",
    "q_i^* &= \\frac{90-q_j}{2}.\n",
    "\\end{align}\n",
    "$$\n",
    "\n",
    "(Note that this does not handle non-negativity constraints.)"
   ]
  },
  {
   "cell_type": "code",
   "execution_count": 20,
   "id": "9e55562e-6493-44ee-b1a5-5fd4abc977cb",
   "metadata": {},
   "outputs": [],
   "source": [
    "# The game is symmetric, so the best response functions are identical for the two firms \n",
    "def BR_i(qj):\n",
    "    qi_star = (90 - qj) / 2 # FILL IN\n",
    "    return qi_star "
   ]
  },
  {
   "cell_type": "markdown",
   "id": "9ab70954-4cc1-47a6-b212-dd1d8a4eeae9",
   "metadata": {},
   "source": [
    "Nash equilibria are found as the solution to the two equations in two unknowns: \n",
    "$$ \n",
    "\\begin{align}\n",
    "q_1^* &= \\frac{90-q_2^*}{2},\n",
    "\\\\ \n",
    "q_2^* &= \\frac{90-q_1^*}{2}.\n",
    "\\end{align}\n",
    "$$\n",
    "\n",
    "We can either solve this system by hand or get some practice with using `fsolve` from `scipy.optimize`. This is a non-linear solve that finds a zero for a (vector-valued) function: \n",
    "$$ f(q_1^*, q_2^*) = (0, 0). $$ \n",
    "So we have to define $f$ so that it returns a zero when evaluated at a Nash equilibrium."
   ]
  },
  {
   "cell_type": "code",
   "execution_count": 24,
   "id": "a2330920-dbd4-4348-b18d-87ce36642ae9",
   "metadata": {},
   "outputs": [],
   "source": [
    "def f(q):\n",
    "    '''\n",
    "    Input: a vector of length 2 (quantities) \n",
    "    Output: a vector of length 2 (== 0 if q is a Nash equilibrium)\n",
    "    '''\n",
    "    assert len(q) == 2, f'Expects a 2-dimensional array, q'\n",
    "    q1 = q[0]\n",
    "    q2 = q[1]\n",
    "    \n",
    "    # use the BR_i() functions \n",
    "    f1 = BR_i(q2) - q1 # FILL IN\n",
    "    f2 = BR_i(q1) - q2 # FILL IN\n",
    "    return np.array([f1,f2])"
   ]
  },
  {
   "cell_type": "code",
   "execution_count": 25,
   "id": "9bc367a0-ebe3-4970-8c12-76b26e1fe9ad",
   "metadata": {},
   "outputs": [],
   "source": [
    "from scipy.optimize import fsolve"
   ]
  },
  {
   "cell_type": "code",
   "execution_count": 27,
   "id": "14d58aa2",
   "metadata": {},
   "outputs": [],
   "source": [
    "fsolve?"
   ]
  },
  {
   "cell_type": "code",
   "execution_count": 29,
   "id": "139fc12a-76d4-4d8f-9ba0-5ad9aaa0a5bf",
   "metadata": {},
   "outputs": [
    {
     "data": {
      "text/plain": [
       "array([30., 30.])"
      ]
     },
     "execution_count": 29,
     "metadata": {},
     "output_type": "execute_result"
    }
   ],
   "source": [
    "q0 = np.array([20,20]) # some starting value guess \n",
    "qstar_foc = fsolve(f, q0) # call fsolve (check the documentation) \n",
    "qstar_foc"
   ]
  },
  {
   "cell_type": "code",
   "execution_count": 31,
   "id": "49d4d23d-00ba-4b4e-b5fb-ffaf1e5516b7",
   "metadata": {},
   "outputs": [],
   "source": [
    "import nashpy as n\n",
    "\n",
    "g = n.Game(pi1,pi2)\n",
    "\n",
    "# Warning: this takes forever to run! \n",
    "#s = list(g.support_enumeration()) # the function returns a generator, so we use list() to materialize it"
   ]
  },
  {
   "cell_type": "markdown",
   "id": "0f834ae0-417b-42bf-acf1-d685c8ab1239",
   "metadata": {},
   "source": [
    "## Show solutions together (done for you)"
   ]
  },
  {
   "cell_type": "code",
   "execution_count": 32,
   "id": "68d518a3-a917-4c65-bc22-30a232e3b3f6",
   "metadata": {},
   "outputs": [
    {
     "data": {
      "image/png": "[encoded data removed]",
      "text/plain": [
       "<Figure size 640x480 with 1 Axes>"
      ]
     },
     "metadata": {},
     "output_type": "display_data"
    }
   ],
   "source": [
    "fig,ax = plt.subplots()\n",
    "ax.plot(BR_i(aa2), aa2, label='$BR_1(a_2)$');\n",
    "ax.plot(aa1, BR_i(aa1), label='$BR_2(a_1)$');\n",
    "ax.plot(qstar_IESDS[0], qstar_IESDS[1], '+', label='IESDS');\n",
    "ax.plot(qstar_foc[0], qstar_foc[1], 'x', label='FOC+fsolve');\n",
    "ax.plot(qstar_brute_force[0], qstar_brute_force[1], 'x', label='Brute Force');\n",
    "ax.legend();\n",
    "ax.set_xlabel('$q_1$');\n",
    "ax.set_ylabel('$q_2$');"
   ]
  }
 ],
 "metadata": {
  "kernelspec": {
   "display_name": "Python 3 (ipykernel)",
   "language": "python",
   "name": "python3"
  },
  "language_info": {
   "codemirror_mode": {
    "name": "ipython",
    "version": 3
   },
   "file_extension": ".py",
   "mimetype": "text/x-python",
   "name": "python",
   "nbconvert_exporter": "python",
   "pygments_lexer": "ipython3",
   "version": "3.11.4"
  }
 },
 "nbformat": 4,
 "nbformat_minor": 5
}
