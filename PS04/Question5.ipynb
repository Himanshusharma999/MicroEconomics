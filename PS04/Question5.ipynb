{
 "cells": [
  {
   "cell_type": "code",
   "execution_count": 18,
   "id": "54d463ee",
   "metadata": {},
   "outputs": [
    {
     "name": "stdout",
     "output_type": "stream",
     "text": [
      "The autoreload extension is already loaded. To reload it, use:\n",
      "  %reload_ext autoreload\n"
     ]
    }
   ],
   "source": [
    "import numpy as np\n",
    "\n",
    "import msne\n",
    "import bimatrix\n",
    "import nashpy as n\n",
    "\n",
    "%load_ext autoreload\n",
    "%autoreload 2"
   ]
  },
  {
   "cell_type": "markdown",
   "id": "f61301ff",
   "metadata": {},
   "source": [
    "### Create payoffs U1 & U2"
   ]
  },
  {
   "cell_type": "code",
   "execution_count": 21,
   "id": "e1ba4b4a",
   "metadata": {},
   "outputs": [
    {
     "data": {
      "text/html": [
       "<div>\n",
       "<style scoped>\n",
       "    .dataframe tbody tr th:only-of-type {\n",
       "        vertical-align: middle;\n",
       "    }\n",
       "\n",
       "    .dataframe tbody tr th {\n",
       "        vertical-align: top;\n",
       "    }\n",
       "\n",
       "    .dataframe thead th {\n",
       "        text-align: right;\n",
       "    }\n",
       "</style>\n",
       "<table border=\"1\" class=\"dataframe\">\n",
       "  <thead>\n",
       "    <tr style=\"text-align: right;\">\n",
       "      <th></th>\n",
       "      <th>North</th>\n",
       "      <th>South</th>\n",
       "    </tr>\n",
       "  </thead>\n",
       "  <tbody>\n",
       "    <tr>\n",
       "      <th>North</th>\n",
       "      <td>(74, 26)</td>\n",
       "      <td>(94, 6)</td>\n",
       "    </tr>\n",
       "    <tr>\n",
       "      <th>South</th>\n",
       "      <td>(100, 0)</td>\n",
       "      <td>(60, 40)</td>\n",
       "    </tr>\n",
       "  </tbody>\n",
       "</table>\n",
       "</div>"
      ],
      "text/plain": [
       "          North     South\n",
       "North  (74, 26)   (94, 6)\n",
       "South  (100, 0)  (60, 40)"
      ]
     },
     "execution_count": 21,
     "metadata": {},
     "output_type": "execute_result"
    }
   ],
   "source": [
    "U1 = np.array([\n",
    "    [74,94],\n",
    "    [100,60]\n",
    "])\n",
    "U2 = np.array([\n",
    "    [26,6],\n",
    "    [0,40]\n",
    "])\n",
    "\n",
    "bimatrix.print_payoffs(U1, U2, A1=['North','South'], A2=['North','South'])"
   ]
  },
  {
   "cell_type": "markdown",
   "id": "d3cdc6b8",
   "metadata": {},
   "source": [
    "### Solve MSNE, since no pure strategies"
   ]
  },
  {
   "cell_type": "code",
   "execution_count": 23,
   "id": "174acfc8",
   "metadata": {},
   "outputs": [
    {
     "name": "stdout",
     "output_type": "stream",
     "text": [
      "Found 4 equilibria:\n",
      "1: (array([0.66666667, 0.33333333]), array([0.56666667, 0.43333333]))\n",
      "2: (array([0.66666667, 0.33333333]), array([0.56666667, 0.43333333]))\n",
      "3: (array([0.66666667, 0.33333333]), array([0.56666667, 0.43333333]))\n",
      "4: (array([0.66666667, 0.33333333]), array([0.56666667, 0.43333333]))\n"
     ]
    },
    {
     "data": {
      "image/png": "[encoded data removed]",
      "text/plain": [
       "<Figure size 640x480 with 1 Axes>"
      ]
     },
     "metadata": {},
     "output_type": "display_data"
    }
   ],
   "source": [
    "msne.plot_BR_functions_2x2(U1, U2)"
   ]
  },
  {
   "cell_type": "markdown",
   "id": "5c4b7ed7",
   "metadata": {},
   "source": [
    "### How many ships make it across in equilibria?"
   ]
  },
  {
   "cell_type": "code",
   "execution_count": 26,
   "id": "8d125335",
   "metadata": {},
   "outputs": [
    {
     "name": "stdout",
     "output_type": "stream",
     "text": [
      "Found 4 equilibria:\n",
      "1: (array([0.66666667, 0.33333333]), array([0.56666667, 0.43333333]))\n",
      "2: (array([0.66666667, 0.33333333]), array([0.56666667, 0.43333333]))\n",
      "3: (array([0.66666667, 0.33333333]), array([0.56666667, 0.43333333]))\n",
      "4: (array([0.66666667, 0.33333333]), array([0.56666667, 0.43333333]))\n"
     ]
    }
   ],
   "source": [
    "eq = msne.solve_for_MSNE(U1, U2, False)[0]"
   ]
  },
  {
   "cell_type": "code",
   "execution_count": 34,
   "id": "db18bc43",
   "metadata": {},
   "outputs": [
    {
     "data": {
      "text/plain": [
       "array([0.56666667, 0.43333333])"
      ]
     },
     "execution_count": 34,
     "metadata": {},
     "output_type": "execute_result"
    }
   ],
   "source": [
    "eq[1]"
   ]
  },
  {
   "cell_type": "markdown",
   "id": "444b7732",
   "metadata": {},
   "source": [
    "#### Compute expected utility for the allies"
   ]
  },
  {
   "cell_type": "code",
   "execution_count": 33,
   "id": "f784979d",
   "metadata": {},
   "outputs": [
    {
     "data": {
      "text/plain": [
       "array([82.66666667, 82.66666667])"
      ]
     },
     "execution_count": 33,
     "metadata": {},
     "output_type": "execute_result"
    }
   ],
   "source": [
    "Eu1 = U1 @ eq[1]\n",
    "Eu1"
   ]
  }
 ],
 "metadata": {
  "kernelspec": {
   "display_name": "Python 3 (ipykernel)",
   "language": "python",
   "name": "python3"
  },
  "language_info": {
   "codemirror_mode": {
    "name": "ipython",
    "version": 3
   },
   "file_extension": ".py",
   "mimetype": "text/x-python",
   "name": "python",
   "nbconvert_exporter": "python",
   "pygments_lexer": "ipython3",
   "version": "3.11.5"
  }
 },
 "nbformat": 4,
 "nbformat_minor": 5
}
