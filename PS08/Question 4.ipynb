{
 "cells": [
  {
   "cell_type": "markdown",
   "metadata": {},
   "source": [
    "Created by Jeppe Møller\n",
    "\n",
    "## Equlibrium outcome\n",
    "\n",
    "$$ (x^*, 1-x^*) = \\left(\\frac{1-\\delta_2}{1-\\delta_1 \\delta_2}, \\frac{\\delta_2\\left(1-\\delta_1\\right)}{1-\\delta_1 \\delta_2}\\right) $$"
   ]
  },
  {
   "cell_type": "code",
   "execution_count": 1,
   "metadata": {},
   "outputs": [],
   "source": [
    "def outcome (r1, r2):\n",
    "    d1 = 1/(1+r1)\n",
    "    d2 = 1/(1+r2)\n",
    "\n",
    "    return ((1-d2)/(1-d1*d2), (d2*(1-d1))/(1-d1*d2))"
   ]
  },
  {
   "cell_type": "code",
   "execution_count": 18,
   "metadata": {},
   "outputs": [
    {
     "data": {
      "application/vnd.jupyter.widget-view+json": {
       "model_id": "7532a3d232de413bbb63c6c1c0a39488",
       "version_major": 2,
       "version_minor": 0
      },
      "text/plain": [
       "interactive(children=(FloatSlider(value=0.1, description='r1', max=0.2, step=0.01), FloatSlider(value=0.1, des…"
      ]
     },
     "metadata": {},
     "output_type": "display_data"
    },
    {
     "data": {
      "text/plain": [
       "<function __main__.outcome(r1, r2)>"
      ]
     },
     "execution_count": 18,
     "metadata": {},
     "output_type": "execute_result"
    }
   ],
   "source": [
    "#Create slider over r1 and r2\n",
    "import matplotlib.pyplot as plt\n",
    "from ipywidgets import interact\n",
    "import ipywidgets as widgets\n",
    "\n",
    "\n",
    "#Interact function outcome with two sliders between 0 and 1\n",
    "interact(outcome, r1=widgets.FloatSlider(min=0, max=0.2, step=0.01, value=0.1), r2=widgets.FloatSlider(min=0, max=0.2, step=0.01, value=0.1))\n"
   ]
  },
  {
   "cell_type": "code",
   "execution_count": null,
   "metadata": {},
   "outputs": [],
   "source": []
  }
 ],
 "metadata": {
  "kernelspec": {
   "display_name": "base",
   "language": "python",
   "name": "python3"
  },
  "language_info": {
   "codemirror_mode": {
    "name": "ipython",
    "version": 3
   },
   "file_extension": ".py",
   "mimetype": "text/x-python",
   "name": "python",
   "nbconvert_exporter": "python",
   "pygments_lexer": "ipython3",
   "version": "3.11.5"
  }
 },
 "nbformat": 4,
 "nbformat_minor": 2
}
