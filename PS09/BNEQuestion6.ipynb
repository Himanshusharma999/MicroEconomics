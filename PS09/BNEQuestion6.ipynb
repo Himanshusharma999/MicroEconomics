{
 "cells": [
  {
   "cell_type": "markdown",
   "metadata": {},
   "source": [
    "# Bayesian Nash Equilibrium in double bi-matrix games\n",
    "\n",
    "This notebook introduces a solution method suggested by William Spaniel for analyzing bimatrix games where one of the players can have multiple types in this video: https://youtu.be/E0_CA9TwZ8c. It is recommended to check the video out in order to fully understand how and why the method works."
   ]
  },
  {
   "cell_type": "code",
   "execution_count": 1,
   "metadata": {},
   "outputs": [],
   "source": [
    "import numpy as np \n",
    "import nashpy\n",
    "import bimatrix"
   ]
  },
  {
   "cell_type": "markdown",
   "metadata": {},
   "source": [
    "Player types \n",
    "* Player 1: always a stag hunt type, \n",
    "* Player 2: with prob. `p`, she is PD, and `1-p`, she is SH. \n",
    "\n",
    "Payoffs: a payoff matrix *list* for each player: one payoff matrix for each type that player 2 can have. "
   ]
  },
  {
   "cell_type": "code",
   "execution_count": 2,
   "metadata": {},
   "outputs": [],
   "source": [
    "def compute_full_matrix(U1, U2, p, action_names=None): \n",
    "    '''\n",
    "        Assumes that only player 2's type varies \n",
    "        (this means that player 1 has one action per row in U1, \n",
    "         while 2 has nA2**2 (one choice per type))\n",
    "        Both players have one utility matrix for each realization \n",
    "        of player 2's type. \n",
    "         \n",
    "        INPUTS: \n",
    "            U1: list of 2 payoff matrices for player 1 (row player)\n",
    "            U2: list of 2 payoff matrices for player 2 (column player)\n",
    "            p: (scalar) Probability that player 2 is the first type \n",
    "            action_names: [optional] 2-list of names of actions (nA1 and nA2 long)\n",
    "        OUTPUTS: \n",
    "            t1, t2: wide-form payoff matrices suitable for finding the NE \n",
    "            A1, A2: names of actions \n",
    "    '''\n",
    "    assert len(U1) == 2\n",
    "    assert len(U2) == 2 \n",
    "    assert np.isscalar(p)\n",
    "    nA1, nA2 = U1[0].shape\n",
    "    \n",
    "    t1 = np.empty((nA1, nA2*nA2))\n",
    "    t2 = np.empty((nA1, nA2*nA2))\n",
    "    \n",
    "    # player 1 chooses an action without knowing what type 2 is \n",
    "    for ia1 in range(nA1): \n",
    "        i_col = 0 \n",
    "        \n",
    "        # player 2 chooses an action conditional on observing her type \n",
    "        for a2_1 in range(nA2): \n",
    "            for a2_2 in range(nA2): \n",
    "                t1[ia1,i_col] = p * U1[0][ia1,a2_1] + (1.-p) * U1[1][ia1,a2_2]\n",
    "                t2[ia1,i_col] = p * U2[0][ia1,a2_1] + (1.-p) * U2[1][ia1,a2_2]\n",
    "                \n",
    "                i_col += 1\n",
    "                \n",
    "    if action_names is None: \n",
    "        A1 = [f'{i}' for i in range(nA1)]\n",
    "        A2 = [f'{a}{b}' for a in range(nA2) for b in range(nA2)]\n",
    "    else: \n",
    "        assert len(action_names) == 2 \n",
    "        A1 = action_names[0]\n",
    "        assert len(A1) == nA1, f'Incorrect # of action names'\n",
    "        a2 = action_names[1]\n",
    "        assert len(a2) == nA2, f'Incorrect # of action names'\n",
    "        \n",
    "        A2 = [f'{a}{b}' for a in a2 for b in a2]\n",
    "        \n",
    "    return t1, t2, A1, A2"
   ]
  },
  {
   "cell_type": "markdown",
   "metadata": {},
   "source": [
    "# Løsning af Question 6 PS9\n",
    "### Swapping P1 and P2 to use function\n",
    "This means that P1 now has a type and P2 does not observe type"
   ]
  },
  {
   "cell_type": "code",
   "execution_count": 39,
   "metadata": {},
   "outputs": [
    {
     "name": "stdout",
     "output_type": "stream",
     "text": [
      "['TT', 'TB', 'BT', 'BB']\n",
      "['L', 'R']\n",
      "[[0.5 0. ]\n",
      " [0.5 1. ]\n",
      " [0.  0. ]\n",
      " [0.  1. ]]\n",
      "[[0.5 0. ]\n",
      " [0.5 1. ]\n",
      " [0.  0. ]\n",
      " [0.  1. ]]\n"
     ]
    }
   ],
   "source": [
    "# Pr(player 2 is the PD type)\n",
    "p = 0.5\n",
    "\n",
    "# player 1 \n",
    "u1  = np.array([[1,0], [0,0]])\n",
    "u2  = np.array([[0,0], [0,2]])\n",
    "\n",
    "U1 = [u1, u2] # player 1 has same payoffs regardless of 2's type \n",
    "a1 = ['T', 'B']\n",
    "A1 = [f'{a}{b}' for a in a1 for b in a1]\n",
    "\n",
    "# player 2\n",
    "u21  = np.array([[1,0], [0,0]])\n",
    "u22  = np.array([[0,0], [0,2]])\n",
    "U2 = [u21, u22]\n",
    "A2 = ['L', 'R']\n",
    "\n",
    "\n",
    "t2, t1, A2, A1 = compute_full_matrix(np.array(U2).T, np.array(U1).T, p, action_names=[A2, a1])\n",
    "print(A1)\n",
    "print(A2)\n",
    "print(t1.T)\n",
    "print(t2.T)\n"
   ]
  },
  {
   "cell_type": "code",
   "execution_count": 40,
   "metadata": {},
   "outputs": [
    {
     "data": {
      "text/html": [
       "<div>\n",
       "<style scoped>\n",
       "    .dataframe tbody tr th:only-of-type {\n",
       "        vertical-align: middle;\n",
       "    }\n",
       "\n",
       "    .dataframe tbody tr th {\n",
       "        vertical-align: top;\n",
       "    }\n",
       "\n",
       "    .dataframe thead th {\n",
       "        text-align: right;\n",
       "    }\n",
       "</style>\n",
       "<table border=\"1\" class=\"dataframe\">\n",
       "  <thead>\n",
       "    <tr style=\"text-align: right;\">\n",
       "      <th></th>\n",
       "      <th>L</th>\n",
       "      <th>R</th>\n",
       "    </tr>\n",
       "  </thead>\n",
       "  <tbody>\n",
       "    <tr>\n",
       "      <th>TT</th>\n",
       "      <td>(0.5, 0.5)</td>\n",
       "      <td>(0.0, 0.0)</td>\n",
       "    </tr>\n",
       "    <tr>\n",
       "      <th>TB</th>\n",
       "      <td>(0.5, 0.5)</td>\n",
       "      <td>(1.0, 1.0)</td>\n",
       "    </tr>\n",
       "    <tr>\n",
       "      <th>BT</th>\n",
       "      <td>(0.0, 0.0)</td>\n",
       "      <td>(0.0, 0.0)</td>\n",
       "    </tr>\n",
       "    <tr>\n",
       "      <th>BB</th>\n",
       "      <td>(0.0, 0.0)</td>\n",
       "      <td>(1.0, 1.0)</td>\n",
       "    </tr>\n",
       "  </tbody>\n",
       "</table>\n",
       "</div>"
      ],
      "text/plain": [
       "             L           R\n",
       "TT  (0.5, 0.5)  (0.0, 0.0)\n",
       "TB  (0.5, 0.5)  (1.0, 1.0)\n",
       "BT  (0.0, 0.0)  (0.0, 0.0)\n",
       "BB  (0.0, 0.0)  (1.0, 1.0)"
      ]
     },
     "execution_count": 40,
     "metadata": {},
     "output_type": "execute_result"
    }
   ],
   "source": [
    "bimatrix.print_payoffs([t1.T, t2.T], [A1,  A2], 3)"
   ]
  },
  {
   "cell_type": "code",
   "execution_count": 41,
   "metadata": {},
   "outputs": [
    {
     "name": "stdout",
     "output_type": "stream",
     "text": [
      "Found 3 equilibria\n",
      "1: s1 = [1. 0. 0. 0.], s2 = [1. 0.]\n",
      "2: s1 = [0. 1. 0. 0.], s2 = [0. 1.]\n",
      "3: s1 = [0. 0. 0. 1.], s2 = [0. 1.]\n"
     ]
    }
   ],
   "source": [
    "G = nashpy.Game(t1.T, t2.T)\n",
    "\n",
    "eqs = list(G.support_enumeration())\n",
    "print(f'Found {len(eqs)} equilibria')\n",
    "for i,eq in enumerate(eqs): \n",
    "    print(f'{i+1}: s1 = {eq[0]}, s2 = {eq[1]}')"
   ]
  },
  {
   "cell_type": "code",
   "execution_count": null,
   "metadata": {},
   "outputs": [],
   "source": []
  },
  {
   "cell_type": "code",
   "execution_count": null,
   "metadata": {},
   "outputs": [],
   "source": []
  }
 ],
 "metadata": {
  "kernelspec": {
   "display_name": "Python 3",
   "language": "python",
   "name": "python3"
  },
  "language_info": {
   "codemirror_mode": {
    "name": "ipython",
    "version": 3
   },
   "file_extension": ".py",
   "mimetype": "text/x-python",
   "name": "python",
   "nbconvert_exporter": "python",
   "pygments_lexer": "ipython3",
   "version": "3.11.5"
  }
 },
 "nbformat": 4,
 "nbformat_minor": 4
}
