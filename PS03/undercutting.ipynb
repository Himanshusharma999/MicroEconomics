{
 "cells": [
  {
   "cell_type": "markdown",
   "id": "7aeacbd1-f80a-4d39-b063-a9eb57a5ac49",
   "metadata": {},
   "source": [
    "# Undercutting in a Model With Shoppers and Loyals"
   ]
  },
  {
   "cell_type": "code",
   "execution_count": 1,
   "id": "1b849bfa-4a75-4eb7-8b91-d00cf624db94",
   "metadata": {},
   "outputs": [],
   "source": [
    "import numpy as np \n",
    "import pandas as pd \n",
    "import matplotlib.pyplot as plt \n",
    "import nashpy as n \n",
    "\n",
    "# user written \n",
    "import bimatrix\n",
    "\n",
    "# for plotting purposes\n",
    "cc = ['r','b','g'] # color order \n",
    "ll = ['--', '-.', ':'] # line style order "
   ]
  },
  {
   "cell_type": "markdown",
   "id": "b8173021-d195-49c6-b820-972f0fb0157e",
   "metadata": {},
   "source": [
    "# The Profit Function\n",
    "\n",
    "Based on the market share function, \n",
    "$$\n",
    "    s_i(p_i,p_j) = \n",
    "    \\begin{cases}\n",
    "        \\frac{1}{4} & \\text{if } p_i > p_j \\\\\n",
    "        \\frac{3}{4} & \\text{if } p_i < p_j \\\\    \n",
    "        \\frac{1}{2} & \\text{if } p_i = p_j. \\\\    \n",
    "    \\end{cases}\n",
    "$$\n",
    "Code up profits given by $\\pi_i(p_i,p_j) = Ms_ip_i$\n"
   ]
  },
  {
   "cell_type": "code",
   "execution_count": 2,
   "id": "6221b703-7379-42e4-88f4-dffc8c2f8142",
   "metadata": {},
   "outputs": [],
   "source": [
    "def s(pi, pj) -> float:\n",
    "    '''Market share function\n",
    "    ''' \n",
    "    if pi < pj: \n",
    "        return 3/4 # FILL IN \n",
    "    elif pi > pj: \n",
    "        return 1/4 # FILL IN \n",
    "    elif pi == pj: \n",
    "        return 1/2 # FILL IN \n",
    "    else:\n",
    "        raise Exception(f'Unexpected outcome: bad inputs? ')\n",
    "        \n",
    "def q(pi, pj, M=2.0) -> float: \n",
    "    '''quantity to firm i\n",
    "    Inputs: \n",
    "        pi: price of firm i\n",
    "        pj: price of competitor\n",
    "        M: market size \n",
    "    Output: \n",
    "        qi: scalar quantity\n",
    "    '''\n",
    "    return M*s(pi,pj)\n",
    "\n",
    "def profit(pi, pj) -> float:\n",
    "    qi = q(pi, pj) # quantity to firm i \n",
    "    return pi*qi # profit to i "
   ]
  },
  {
   "cell_type": "markdown",
   "id": "33f31443-9694-4926-9438-a8252e017250",
   "metadata": {},
   "source": [
    "### Plot profile of $\\pi_1$ for $p_2 = 50$"
   ]
  },
  {
   "cell_type": "code",
   "execution_count": 7,
   "id": "5ff57af8-f110-4329-8984-2c20fb69885c",
   "metadata": {},
   "outputs": [
    {
     "data": {
      "image/png": "[encoded data removed]",
      "text/plain": [
       "<Figure size 640x480 with 1 Axes>"
      ]
     },
     "metadata": {},
     "output_type": "display_data"
    }
   ],
   "source": [
    "p2 = 50\n",
    "G = 100 # number of grid points \n",
    "xx = np.linspace(0, 100, G)\n",
    "\n",
    "for i,p2 in enumerate([38,54,80]):\n",
    "    \n",
    "    yy = np.empty((G,))\n",
    "    for ig,p in enumerate(xx): \n",
    "        yy[ig] = profit(p, pj=p2)\n",
    "        \n",
    "    plt.plot(xx, yy);"
   ]
  },
  {
   "cell_type": "code",
   "execution_count": 13,
   "id": "f1857635-08cb-45fb-b88d-7a56bc0b142b",
   "metadata": {},
   "outputs": [],
   "source": [
    "pp = np.array([80, 54, 38])\n",
    "G = pp.size # number of grid points (just 3)\n",
    "\n",
    "# initialize the utility matrices we will be filling out \n",
    "U1 = np.empty((G,G)) \n",
    "U2 = np.empty((G,G))\n",
    "\n",
    "for i1,p1 in enumerate(pp):\n",
    "    for i2,p2 in enumerate(pp):\n",
    "        U1[i1,i2] = profit(p1,p2) # FILL IN \n",
    "        U2[i1,i2] = profit(p2,p1) # FILL IN "
   ]
  },
  {
   "cell_type": "code",
   "execution_count": 14,
   "id": "1dfc0f91-d7a3-47ed-b222-b4dafd017840",
   "metadata": {},
   "outputs": [
    {
     "data": {
      "text/html": [
       "<div>\n",
       "<style scoped>\n",
       "    .dataframe tbody tr th:only-of-type {\n",
       "        vertical-align: middle;\n",
       "    }\n",
       "\n",
       "    .dataframe tbody tr th {\n",
       "        vertical-align: top;\n",
       "    }\n",
       "\n",
       "    .dataframe thead th {\n",
       "        text-align: right;\n",
       "    }\n",
       "</style>\n",
       "<table border=\"1\" class=\"dataframe\">\n",
       "  <thead>\n",
       "    <tr style=\"text-align: right;\">\n",
       "      <th></th>\n",
       "      <th>$p_2=80$</th>\n",
       "      <th>$p_2=54$</th>\n",
       "      <th>$p_2=38$</th>\n",
       "    </tr>\n",
       "  </thead>\n",
       "  <tbody>\n",
       "    <tr>\n",
       "      <th>$p_1=80$</th>\n",
       "      <td>(80.0, 80.0)</td>\n",
       "      <td>(40.0, 81.0)</td>\n",
       "      <td>(40.0, 57.0)</td>\n",
       "    </tr>\n",
       "    <tr>\n",
       "      <th>$p_1=54$</th>\n",
       "      <td>(81.0, 40.0)</td>\n",
       "      <td>(54.0, 54.0)</td>\n",
       "      <td>(27.0, 57.0)</td>\n",
       "    </tr>\n",
       "    <tr>\n",
       "      <th>$p_1=38$</th>\n",
       "      <td>(57.0, 40.0)</td>\n",
       "      <td>(57.0, 27.0)</td>\n",
       "      <td>(38.0, 38.0)</td>\n",
       "    </tr>\n",
       "  </tbody>\n",
       "</table>\n",
       "</div>"
      ],
      "text/plain": [
       "              $p_2=80$      $p_2=54$      $p_2=38$\n",
       "$p_1=80$  (80.0, 80.0)  (40.0, 81.0)  (40.0, 57.0)\n",
       "$p_1=54$  (81.0, 40.0)  (54.0, 54.0)  (27.0, 57.0)\n",
       "$p_1=38$  (57.0, 40.0)  (57.0, 27.0)  (38.0, 38.0)"
      ]
     },
     "execution_count": 14,
     "metadata": {},
     "output_type": "execute_result"
    }
   ],
   "source": [
    "tab = bimatrix.print_payoffs(U1,U2)\n",
    "tab.columns = [f'$p_2={p}$' for p in pp] # beautiful labels\n",
    "tab.index   = [f'$p_1={p}$' for p in pp] # ... \n",
    "tab"
   ]
  },
  {
   "cell_type": "code",
   "execution_count": 15,
   "id": "ec7d3c01-ddee-428c-ab56-ac21dde02c01",
   "metadata": {},
   "outputs": [
    {
     "data": {
      "text/plain": [
       "Bi matrix game with payoff matrices:\n",
       "\n",
       "Row player:\n",
       "[[80. 40. 40.]\n",
       " [81. 54. 27.]\n",
       " [57. 57. 38.]]\n",
       "\n",
       "Column player:\n",
       "[[80. 81. 57.]\n",
       " [40. 54. 57.]\n",
       " [40. 27. 38.]]"
      ]
     },
     "execution_count": 15,
     "metadata": {},
     "output_type": "execute_result"
    }
   ],
   "source": [
    "g = n.Game(U1, U2)\n",
    "g"
   ]
  },
  {
   "cell_type": "code",
   "execution_count": 19,
   "id": "2dede177-fc08-4c5c-bc72-50c1570579f1",
   "metadata": {},
   "outputs": [
    {
     "name": "stdout",
     "output_type": "stream",
     "text": [
      "Found 1 equilibria!\n"
     ]
    }
   ],
   "source": [
    "eqs = list(g.support_enumeration())\n",
    "print(f'Found {len(eqs)} equilibria!')"
   ]
  },
  {
   "cell_type": "code",
   "execution_count": 20,
   "id": "3bf427ef-3eab-4b7a-a81e-36380e91a806",
   "metadata": {},
   "outputs": [
    {
     "name": "stdout",
     "output_type": "stream",
     "text": [
      "(array([0.23169268, 0.36134454, 0.40696279]), array([0.23169268, 0.36134454, 0.40696279]))\n"
     ]
    }
   ],
   "source": [
    "for eq in eqs: \n",
    "    print(eq)"
   ]
  },
  {
   "cell_type": "code",
   "execution_count": 21,
   "id": "e9f5d91d-15bf-41c9-b8bf-0bdbb638dad2",
   "metadata": {},
   "outputs": [
    {
     "data": {
      "image/png": "[encoded data removed]",
      "text/plain": [
       "<Figure size 640x480 with 1 Axes>"
      ]
     },
     "metadata": {},
     "output_type": "display_data"
    }
   ],
   "source": [
    "# you can make pretty graphs like these if you have the time and desire\n",
    "eq = pd.DataFrame(eqs[0], columns=[f'$p = {p}$' for p in pp], index=['Firm 1', 'Firm 2'])\n",
    "eq.index.name = 'Price'\n",
    "ax = eq.T.plot.bar(); \n",
    "ax.legend();\n",
    "ax.set_xlabel('Actions');\n",
    "ax.set_ylabel('Probability');\n",
    "ax.set_title('Mixed strategy Nash Equilibrium');"
   ]
  }
 ],
 "metadata": {
  "kernelspec": {
   "display_name": "Python 3 (ipykernel)",
   "language": "python",
   "name": "python3"
  },
  "language_info": {
   "codemirror_mode": {
    "name": "ipython",
    "version": 3
   },
   "file_extension": ".py",
   "mimetype": "text/x-python",
   "name": "python",
   "nbconvert_exporter": "python",
   "pygments_lexer": "ipython3",
   "version": "3.11.4"
  }
 },
 "nbformat": 4,
 "nbformat_minor": 5
}
