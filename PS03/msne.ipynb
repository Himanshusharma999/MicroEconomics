{
 "cells": [
  {
   "cell_type": "markdown",
   "id": "5b0fa38f-8263-4bec-92ab-44d62e6cf753",
   "metadata": {},
   "source": [
    "# Mixed Strategy Nash Equilibria"
   ]
  },
  {
   "cell_type": "code",
   "execution_count": 1,
   "id": "1b849bfa-4a75-4eb7-8b91-d00cf624db94",
   "metadata": {},
   "outputs": [],
   "source": [
    "import numpy as np \n",
    "import pandas as pd \n",
    "import matplotlib.pyplot as plt \n",
    "import nashpy as n \n",
    "\n",
    "# user written \n",
    "import bimatrix"
   ]
  },
  {
   "cell_type": "markdown",
   "id": "a89e1934-8a07-4851-8c95-05ecfeb35085",
   "metadata": {},
   "source": [
    "# 2x2 Games"
   ]
  },
  {
   "cell_type": "markdown",
   "id": "f5f4ecac-1e5b-4dc0-9d44-1f8b46d3e9ed",
   "metadata": {},
   "source": [
    "Here is an example of a game to work with to fix ideas. "
   ]
  },
  {
   "cell_type": "code",
   "execution_count": 2,
   "id": "41de8f87-b836-4007-9bd7-ac479fdc39c3",
   "metadata": {},
   "outputs": [
    {
     "data": {
      "text/html": [
       "<div>\n",
       "<style scoped>\n",
       "    .dataframe tbody tr th:only-of-type {\n",
       "        vertical-align: middle;\n",
       "    }\n",
       "\n",
       "    .dataframe tbody tr th {\n",
       "        vertical-align: top;\n",
       "    }\n",
       "\n",
       "    .dataframe thead th {\n",
       "        text-align: right;\n",
       "    }\n",
       "</style>\n",
       "<table border=\"1\" class=\"dataframe\">\n",
       "  <thead>\n",
       "    <tr style=\"text-align: right;\">\n",
       "      <th></th>\n",
       "      <th>L</th>\n",
       "      <th>R</th>\n",
       "    </tr>\n",
       "  </thead>\n",
       "  <tbody>\n",
       "    <tr>\n",
       "      <th>U</th>\n",
       "      <td>(1, 3)</td>\n",
       "      <td>(1, 0)</td>\n",
       "    </tr>\n",
       "    <tr>\n",
       "      <th>D</th>\n",
       "      <td>(1, 1)</td>\n",
       "      <td>(5, 5)</td>\n",
       "    </tr>\n",
       "  </tbody>\n",
       "</table>\n",
       "</div>"
      ],
      "text/plain": [
       "        L       R\n",
       "U  (1, 3)  (1, 0)\n",
       "D  (1, 1)  (5, 5)"
      ]
     },
     "execution_count": 2,
     "metadata": {},
     "output_type": "execute_result"
    }
   ],
   "source": [
    "U1 = np.array([\n",
    "    [1,1],\n",
    "    [1,5]\n",
    "])\n",
    "U2 = np.array([\n",
    "    [3,0],\n",
    "    [1,5]\n",
    "])\n",
    "bimatrix.print_payoffs(U1, U2, A1=['U','D'], A2=['L','R'])"
   ]
  },
  {
   "cell_type": "markdown",
   "id": "5b08fecf-017d-4791-9df7-c3fced2f4025",
   "metadata": {},
   "source": [
    "In a binary game, the mixed strategy of each player is a vector $(p_1,p_2)$. But since the probabilities must sum to 100%, we can think of it as a choosing a single number, $p_1$ (the probability of choosing the first action), and then the other probability is just $1-p_1$. This is why we can make simple plots: there is just one continuous choice variable for each player: the probability of playing her first action. \n",
    "\n",
    "The strategy space is thus the unit interval, $S_i = [0;1]$. "
   ]
  },
  {
   "cell_type": "markdown",
   "id": "f45b0673-149f-4005-a525-8decb05ac9b4",
   "metadata": {},
   "source": [
    "If we have a candidate strategy for our opponent, $s_2 = (p_2, 1-p_2)$, then we can calculate the expected utility we get from both of our actions. This is just $p_2$ times the utility evaluated when the opponent plays the first action plus $1-p_2$ times the probability when she chooses the second action. In other words,"
   ]
  },
  {
   "cell_type": "code",
   "execution_count": 3,
   "id": "0b229e67-d6a7-4c28-957b-bee068335810",
   "metadata": {},
   "outputs": [
    {
     "data": {
      "text/plain": [
       "array([1., 4.])"
      ]
     },
     "execution_count": 3,
     "metadata": {},
     "output_type": "execute_result"
    }
   ],
   "source": [
    "p2 = 0.25 # some strategy our opponent might choose \n",
    "Eu1 = p2 * U1[:, 0] + (1-p2) * U1[:, 1]\n",
    "Eu1"
   ]
  },
  {
   "cell_type": "markdown",
   "id": "5e30eada-9513-4792-87b5-220d6c4376c1",
   "metadata": {},
   "source": [
    "Let's get clever and use matrix algebra to do this: "
   ]
  },
  {
   "cell_type": "code",
   "execution_count": 4,
   "id": "ad28fd13-d43d-41dd-9721-ff5760bf9fb1",
   "metadata": {},
   "outputs": [
    {
     "data": {
      "text/plain": [
       "array([1., 4.])"
      ]
     },
     "execution_count": 4,
     "metadata": {},
     "output_type": "execute_result"
    }
   ],
   "source": [
    "p2vec = np.array([p2, 1.0-p2])\n",
    "Eu1 = U1 @ p2vec\n",
    "Eu1"
   ]
  },
  {
   "cell_type": "markdown",
   "id": "9df658f6-404c-4409-b552-3537c42bd2d4",
   "metadata": {},
   "source": [
    "Phew, it gave the same result...\n",
    "\n",
    "Now we have two expected utility values. Agents are rational so they pick the one that gives the highest utility: that is the second action. We can use `np.argmax` to find this index. "
   ]
  },
  {
   "cell_type": "code",
   "execution_count": 5,
   "id": "4a1d7dae-95c2-4d6f-be89-665fa834c874",
   "metadata": {},
   "outputs": [
    {
     "data": {
      "text/plain": [
       "1"
      ]
     },
     "execution_count": 5,
     "metadata": {},
     "output_type": "execute_result"
    }
   ],
   "source": [
    "br1 = Eu1.argmax()\n",
    "br1"
   ]
  },
  {
   "cell_type": "markdown",
   "id": "308a9199-bfa5-4cc4-a3db-da34841977f5",
   "metadata": {},
   "source": [
    "The second action gave utility 3.25"
   ]
  },
  {
   "cell_type": "markdown",
   "id": "c211a2ad-11bf-476e-8e53-57b99702276c",
   "metadata": {},
   "source": [
    "\n",
    "\n",
    "Now let's do this for a lot of candidate strategy vectors our opponent might choose: a whole grid over $[0;1]$, e.g. for 100 values: "
   ]
  },
  {
   "cell_type": "code",
   "execution_count": 6,
   "id": "17348251-25ed-405e-8b73-b6b9bd32b50b",
   "metadata": {},
   "outputs": [
    {
     "data": {
      "text/plain": [
       "array([[0.        , 0.01010101, 0.02020202],\n",
       "       [1.        , 0.98989899, 0.97979798]])"
      ]
     },
     "execution_count": 6,
     "metadata": {},
     "output_type": "execute_result"
    }
   ],
   "source": [
    "# create a grid of probabilities to plot over\n",
    "p = np.linspace(0,1,100)\n",
    "pp = np.hstack([p, 1-p]).reshape(2,100) # top row is Pr(first action), bottom row is Pr(second action)\n",
    "pp[:, :3] # show what we are dealing with "
   ]
  },
  {
   "cell_type": "code",
   "execution_count": 7,
   "id": "0513673f-fd26-47dc-b1c5-e926cddf2a7f",
   "metadata": {},
   "outputs": [
    {
     "data": {
      "text/plain": [
       "array([[1.        , 1.        , 1.        ],\n",
       "       [5.        , 4.95959596, 4.91919192]])"
      ]
     },
     "execution_count": 7,
     "metadata": {},
     "output_type": "execute_result"
    }
   ],
   "source": [
    "Eu1 = U1 @ pp\n",
    "Eu1[:, :3] # printing some of the expected utilities "
   ]
  },
  {
   "cell_type": "markdown",
   "id": "eab1fd49-e485-4b6f-ba5d-c929060c663e",
   "metadata": {},
   "source": [
    "Agents may choose to mix if they are indifferent. Let's see if that ever happens: "
   ]
  },
  {
   "cell_type": "code",
   "execution_count": 8,
   "id": "c7d4bf31-1b00-4ebe-87bb-518e107e3707",
   "metadata": {},
   "outputs": [
    {
     "name": "stdout",
     "output_type": "stream",
     "text": [
      "(array([99]),) [1. 1.]\n"
     ]
    }
   ],
   "source": [
    "I = np.isclose(Eu1[0,:], Eu1[1,:])\n",
    "if I.any():\n",
    "    idx = np.where(I)\n",
    "    print(idx,Eu1[:, idx].flatten())\n",
    "else: \n",
    "    print('no match')"
   ]
  },
  {
   "cell_type": "markdown",
   "id": "31892b7a-8c87-40ff-923e-75b9f3fe6899",
   "metadata": {},
   "source": [
    "So for ther 99th action (the last in our grid, so when $p_2 = 1.0$), the first player is indifferent (to numerical precision) about her actions. Then, that is where she is willing to mix.     "
   ]
  },
  {
   "cell_type": "markdown",
   "id": "47c7f2e1-7bb9-465e-83f4-a5d5d5ad00c7",
   "metadata": {},
   "source": [
    "### Best response function\n",
    "\n",
    "For binary games (where there are just two actions to mix over, $|S_i| = 2$), the expected utility must be weakly monotonic in the opponent's choice probability. \n",
    "\n",
    "First, without loss of generality, define $p_i = \\Pr(\\text{player } i \\text{ plays } a_i^0)$ and then $1-p_i$ is the probability that the \"other\" (second) action is played. Then, expected utility is \n",
    "$$E_{a_2}(u_1(a_1, a_2)) = p_2 u_1(a_1, 0) + (1-p_2) u_1(a_1, 1).$$\n",
    "\n",
    "Typically, we get \n",
    "$$ BR_1(p_2) = \n",
    "\\begin{cases}\n",
    "\\{0\\} & \\text{if } p_2 \\in \\mathcal{A} \\\\\n",
    "[0;1] & \\text{if } p_2 \\in \\mathcal{B} \\\\\n",
    "\\{1\\} & \\text{if } p_2 \\in \\mathcal{C},\n",
    "\\end{cases} \n",
    "$$\n",
    "where $\\mathcal{A}, \\mathcal{B}, \\mathcal{C} \\subset [0;1]$. In this case, $BR_1(p_2)$ gives the \"mixing probability\", $p_1$, that player 1 will play it's first (of two) actions. "
   ]
  },
  {
   "cell_type": "code",
   "execution_count": 9,
   "id": "bf3db7b0-a0b9-4450-9ad6-1a81d195366e",
   "metadata": {},
   "outputs": [],
   "source": [
    "def BR_1(Eu1): \n",
    "    '''Best response in binary actions \n",
    "    Input: Eu1: 2*G matrix of expected utilities, where \n",
    "        2 = number of actions \n",
    "        G = number of grid points we are computing the best response for \n",
    "    Output: \n",
    "        br: G-vector of flots\n",
    "    '''\n",
    "    x,G = Eu1.shape\n",
    "    assert x == 2, f'Eu must be 2*G'\n",
    "    \n",
    "    br = np.empty((G,)) # one best response per grid point\n",
    "    \n",
    "    I = Eu1[0,:] > Eu1[1,:] # in these rows, the \n",
    "    br[I] = [] # FILL IN\n",
    "    I = Eu1[0,:] < Eu1[1,:]\n",
    "    br[I] = [] # FILL IN\n",
    "    I = Eu1[0,:] == Eu1[1,:]\n",
    "    br[I] = [] # FILL IN \n",
    "    \n",
    "    return br"
   ]
  },
  {
   "cell_type": "code",
   "execution_count": 10,
   "id": "d5a45159-a585-4868-bb5b-5c79f8b0d177",
   "metadata": {},
   "outputs": [
    {
     "data": {
      "text/plain": [
       "array([0. , 0. , 0. , 0. , 0. , 0. , 0. , 0. , 0. , 0. , 0. , 0. , 0. ,\n",
       "       0. , 0. , 0. , 0. , 0. , 0. , 0. , 0. , 0. , 0. , 0. , 0. , 0. ,\n",
       "       0. , 0. , 0. , 0. , 0. , 0. , 0. , 0. , 0. , 0. , 0. , 0. , 0. ,\n",
       "       0. , 0. , 0. , 0. , 0. , 0. , 0. , 0. , 0. , 0. , 0. , 0. , 0. ,\n",
       "       0. , 0. , 0. , 0. , 0. , 0. , 0. , 0. , 0. , 0. , 0. , 0. , 0. ,\n",
       "       0. , 0. , 0. , 0. , 0. , 0. , 0. , 0. , 0. , 0. , 0. , 0. , 0. ,\n",
       "       0. , 0. , 0. , 0. , 0. , 0. , 0. , 0. , 0. , 0. , 0. , 0. , 0. ,\n",
       "       0. , 0. , 0. , 0. , 0. , 0. , 0. , 0. , 0.5])"
      ]
     },
     "execution_count": 10,
     "metadata": {},
     "output_type": "execute_result"
    }
   ],
   "source": [
    "Eu1 = [] # FILL IN: Use linear algebra to compute the expected utility to player 1 if player 2 follows each of the strategies in the matrix pp\n",
    "br1 = BR_1([]) # FILL IN: Best response \n",
    "br1"
   ]
  },
  {
   "cell_type": "code",
   "execution_count": 11,
   "id": "2d8eaca2-8948-44d4-b99a-2535a4ea319f",
   "metadata": {},
   "outputs": [
    {
     "data": {
      "text/plain": [
       "array([0., 0., 0., 0., 0., 0., 0., 0., 0., 0., 0., 0., 0., 0., 0., 0., 0.,\n",
       "       0., 0., 0., 0., 0., 0., 0., 0., 0., 0., 0., 0., 0., 0., 0., 0., 0.,\n",
       "       0., 0., 0., 0., 0., 0., 0., 0., 0., 0., 0., 0., 0., 0., 0., 0., 0.,\n",
       "       0., 0., 0., 0., 0., 0., 1., 1., 1., 1., 1., 1., 1., 1., 1., 1., 1.,\n",
       "       1., 1., 1., 1., 1., 1., 1., 1., 1., 1., 1., 1., 1., 1., 1., 1., 1.,\n",
       "       1., 1., 1., 1., 1., 1., 1., 1., 1., 1., 1., 1., 1., 1., 1.])"
      ]
     },
     "execution_count": 11,
     "metadata": {},
     "output_type": "execute_result"
    }
   ],
   "source": [
    "Eu2 = [] # Fill in: using linear algebra, compute expected utility to player 2 if player 1 follows pp\n",
    "\n",
    "br2 = BR_1([]) # Fill in: how can we use BR_1 to compute the best response for player 2? \n",
    "br2"
   ]
  },
  {
   "cell_type": "code",
   "execution_count": 12,
   "id": "f1af9187-5d60-4cfe-bf37-fa01cc166d89",
   "metadata": {},
   "outputs": [
    {
     "data": {
      "image/png": "[encoded data removed]",
      "text/plain": [
       "<Figure size 432x288 with 1 Axes>"
      ]
     },
     "metadata": {
      "needs_background": "light"
     },
     "output_type": "display_data"
    }
   ],
   "source": [
    "fig,ax = plt.subplots()\n",
    "ax.plot(p, br2, '--', label=f'$BR_2(a_1)$');\n",
    "ax.plot(br1, p, '-', label=f'$BR_1(a_2)$');\n",
    "ax.legend();\n",
    "ax.set_xlabel('$\\Pr(a_1 = 0)$');\n",
    "ax.set_ylabel('$\\Pr(a_2 = 0)$');"
   ]
  },
  {
   "cell_type": "markdown",
   "id": "b5502fed-4b73-495e-8ff6-4bb73d9b243c",
   "metadata": {},
   "source": [
    "Clearly, the plot is improved by adding the point (1,1) to BR1: "
   ]
  },
  {
   "cell_type": "code",
   "execution_count": 13,
   "id": "61e7a7cc-c873-4ce4-81b2-c7c88b96fa36",
   "metadata": {},
   "outputs": [
    {
     "data": {
      "image/png": "[encoded data removed]",
      "text/plain": [
       "<Figure size 432x288 with 1 Axes>"
      ]
     },
     "metadata": {
      "needs_background": "light"
     },
     "output_type": "display_data"
    }
   ],
   "source": [
    "fig,ax = plt.subplots()\n",
    "ax.plot(p, br2, '--', label=f'Player 2: $BR_2(a_1)$');\n",
    "ax.plot(\n",
    "    np.append(br1, 1.0), # <-- add x=1.0 in the end\n",
    "    np.append(p, 1.0),   # <-- and y=1.0\n",
    "    '-', label=f'Player 1: $BR_1(a_2)$', alpha=0.5);\n",
    "ax.legend();\n",
    "ax.set_xlabel('$\\Pr(a_1 = 0)$');\n",
    "ax.set_ylabel('$\\Pr(a_2 = 0)$');"
   ]
  },
  {
   "cell_type": "markdown",
   "id": "7394651e-d84d-4ebf-82fe-ba83d609ceb9",
   "metadata": {},
   "source": [
    "# Solve the game using `nashpy`"
   ]
  },
  {
   "cell_type": "code",
   "execution_count": 22,
   "id": "8a4b5364-c83d-4b8b-8509-8ff84784773c",
   "metadata": {},
   "outputs": [
    {
     "data": {
      "text/plain": [
       "Zero sum game with payoff matrices:\n",
       "\n",
       "Row player:\n",
       "[[ 1 -1]\n",
       " [-1  1]]\n",
       "\n",
       "Column player:\n",
       "[[-1  1]\n",
       " [ 1 -1]]"
      ]
     },
     "execution_count": 22,
     "metadata": {},
     "output_type": "execute_result"
    }
   ],
   "source": [
    "g = n.Game(U1,U2)\n",
    "g"
   ]
  },
  {
   "cell_type": "markdown",
   "id": "5968c550-6d7c-464b-a13e-1dddfcd2f2d3",
   "metadata": {},
   "source": [
    "Now solve the game using the object `g`'s builtin function `lemke_howson_enumeration()`. Note that it returns a `generator`, which has to be instantiated, e.g. by looping through it or by materializing it using `list(generator)`. "
   ]
  },
  {
   "cell_type": "markdown",
   "id": "22953fc4-414d-4852-8250-e1ff25499a79",
   "metadata": {},
   "source": [
    "You can use it to add the dots for the MSNE on top of your Best Response graphs like this.... but don't waste all the exercise time pursuing this! "
   ]
  },
  {
   "cell_type": "code",
   "execution_count": null,
   "id": "4eb384f9-9db0-48f8-a8b8-c0487db62d26",
   "metadata": {},
   "outputs": [],
   "source": [
    "def plot_BR_functions_2x2(U1, U2):\n",
    "    # FILL IN if you have the time and feel like it \n",
    "    return False "
   ]
  },
  {
   "cell_type": "code",
   "execution_count": 16,
   "id": "88c8f62e-9d69-4832-a709-066641ac0d2f",
   "metadata": {},
   "outputs": [
    {
     "name": "stdout",
     "output_type": "stream",
     "text": [
      "        L       R\n",
      "T  (0, 0)  (0, 0)\n",
      "D  (0, 0)  (1, 1)\n",
      "Found 4 equilibria:\n",
      "1: (array([1., 0.]), array([1., 0.]))\n",
      "2: (array([0., 1.]), array([0., 1.]))\n",
      "3: (array([1., 0.]), array([1., 0.]))\n",
      "4: (array([0., 1.]), array([0., 1.]))\n"
     ]
    },
    {
     "data": {
      "image/png": "[encoded data removed]",
      "text/plain": [
       "<Figure size 432x288 with 1 Axes>"
      ]
     },
     "metadata": {
      "needs_background": "light"
     },
     "output_type": "display_data"
    }
   ],
   "source": [
    "U1 = np.array([[0,0],[0,1]])\n",
    "U2 = U1.copy()\n",
    "print(bimatrix.print_payoffs(U1, U2,A1=['T','D'],A2=['L','R']))\n",
    "\n",
    "plot_BR_functions_2x2(U1, U2)"
   ]
  },
  {
   "cell_type": "markdown",
   "id": "606a1992-3b32-4343-9339-1b70e8c5f040",
   "metadata": {},
   "source": [
    "So the equilibria are just the two pure strategy equilibria: (D,L) and (T,R). "
   ]
  },
  {
   "cell_type": "code",
   "execution_count": 17,
   "id": "68f23302-8b66-4f02-ba6c-d9f377932428",
   "metadata": {},
   "outputs": [
    {
     "name": "stdout",
     "output_type": "stream",
     "text": [
      "        L       R\n",
      "T  (1, 3)  (1, 0)\n",
      "D  (1, 1)  (5, 5)\n",
      "Found 4 equilibria:\n",
      "1: (array([1., 0.]), array([1., 0.]))\n",
      "2: (array([0., 1.]), array([0., 1.]))\n",
      "3: (array([1., 0.]), array([1., 0.]))\n",
      "4: (array([0., 1.]), array([0., 1.]))\n"
     ]
    },
    {
     "data": {
      "image/png": "[encoded data removed]",
      "text/plain": [
       "<Figure size 432x288 with 1 Axes>"
      ]
     },
     "metadata": {
      "needs_background": "light"
     },
     "output_type": "display_data"
    }
   ],
   "source": [
    "U1 = np.array([[1,1],[1,5]])\n",
    "U2 = np.array([[3,0],[1,5]])\n",
    "print(bimatrix.print_payoffs(U1, U2,A1=['T','D'],A2=['L','R']))\n",
    "\n",
    "plot_BR_functions_2x2(U1, U2)"
   ]
  },
  {
   "cell_type": "code",
   "execution_count": 18,
   "id": "6df58e81-045f-43a1-bf9f-e03f168a975e",
   "metadata": {},
   "outputs": [
    {
     "name": "stdout",
     "output_type": "stream",
     "text": [
      "        0       1\n",
      "0  (3, 2)  (1, 2)\n",
      "1  (0, 1)  (1, 2)\n",
      "Found 4 equilibria:\n",
      "1: (array([1., 0.]), array([1., 0.]))\n",
      "2: (array([1., 0.]), array([1., 0.]))\n",
      "3: (array([1., 0.]), array([1., 0.]))\n",
      "4: (array([1., 0.]), array([1., 0.]))\n"
     ]
    },
    {
     "name": "stderr",
     "output_type": "stream",
     "text": [
      "/Users/mrz577/opt/anaconda3/lib/python3.9/site-packages/nashpy/integer_pivoting/integer_pivoting.py:55: RuntimeWarning: divide by zero encountered in true_divide\n",
      "  return np.argmax(tableau[:, column_index] / tableau[:, -1])\n"
     ]
    },
    {
     "data": {
      "image/png": "[encoded data removed]",
      "text/plain": [
       "<Figure size 432x288 with 1 Axes>"
      ]
     },
     "metadata": {
      "needs_background": "light"
     },
     "output_type": "display_data"
    }
   ],
   "source": [
    "U1 = np.array([[3,1],[0,1]])\n",
    "U2 = np.array([[2,2],[1,2]])\n",
    "print(bimatrix.print_payoffs(U1, U2))\n",
    "\n",
    "plot_BR_functions_2x2(U1, U2)"
   ]
  },
  {
   "cell_type": "code",
   "execution_count": 19,
   "id": "59130a3b-4e12-4fc7-8568-654eedf65ada",
   "metadata": {},
   "outputs": [
    {
     "name": "stderr",
     "output_type": "stream",
     "text": [
      "/Users/mrz577/opt/anaconda3/lib/python3.9/site-packages/nashpy/integer_pivoting/integer_pivoting.py:55: RuntimeWarning: divide by zero encountered in true_divide\n",
      "  return np.argmax(tableau[:, column_index] / tableau[:, -1])\n"
     ]
    },
    {
     "name": "stdout",
     "output_type": "stream",
     "text": [
      "Found 4 equilibria:\n",
      "1: (array([1., 0.]), array([1., 0.]))\n",
      "2: (array([1., 0.]), array([1., 0.]))\n",
      "3: (array([1., 0.]), array([1., 0.]))\n",
      "4: (array([1., 0.]), array([1., 0.]))\n",
      "Found 4 equilibria:\n",
      "1: (array([1., 0.]), array([1., 0.]))\n",
      "2: (array([1., 0.]), array([1., 0.]))\n",
      "3: (array([1., 0.]), array([1., 0.]))\n",
      "4: (array([1., 0.]), array([1., 0.]))\n"
     ]
    },
    {
     "data": {
      "image/png": "[encoded data removed]",
      "text/plain": [
       "<Figure size 432x288 with 1 Axes>"
      ]
     },
     "metadata": {
      "needs_background": "light"
     },
     "output_type": "display_data"
    }
   ],
   "source": [
    "plot_BR_functions_2x2(U1, U2)\n",
    "eqs = solve_for_MSNE(U1, U2, DOPLOT=False)"
   ]
  },
  {
   "cell_type": "code",
   "execution_count": 20,
   "id": "b9b1ddbc-f106-4676-a124-05e2f852ee7f",
   "metadata": {},
   "outputs": [
    {
     "name": "stdout",
     "output_type": "stream",
     "text": [
      "        0       1\n",
      "0  (2, 1)  (3, 0)\n",
      "1  (1, 2)  (4, 3)\n",
      "Found 4 equilibria:\n",
      "1: (array([1., 0.]), array([1., 0.]))\n",
      "2: (array([0., 1.]), array([0., 1.]))\n",
      "3: (array([1., 0.]), array([1., 0.]))\n",
      "4: (array([0., 1.]), array([0., 1.]))\n"
     ]
    },
    {
     "data": {
      "image/png": "[encoded data removed]",
      "text/plain": [
       "<Figure size 432x288 with 1 Axes>"
      ]
     },
     "metadata": {
      "needs_background": "light"
     },
     "output_type": "display_data"
    }
   ],
   "source": [
    "# Reduced 3x2 (we start by removing a dominated option, the third action for player 1)\n",
    "# then the game is just 2x2\n",
    "U1 = np.array([[2,3],[1,4]])\n",
    "U2 = np.array([[1,0],[2,3]])\n",
    "print(bimatrix.print_payoffs(U1, U2))\n",
    "\n",
    "plot_BR_functions_2x2(U1, U2)"
   ]
  },
  {
   "cell_type": "code",
   "execution_count": 21,
   "id": "d33b2242-5b71-4b61-b308-1c45fcd87df2",
   "metadata": {},
   "outputs": [
    {
     "name": "stdout",
     "output_type": "stream",
     "text": [
      "         0        1\n",
      "0  (1, -1)  (-1, 1)\n",
      "1  (-1, 1)  (1, -1)\n",
      "Found 4 equilibria:\n",
      "1: (array([0.5, 0.5]), array([0.5, 0.5]))\n",
      "2: (array([0.5, 0.5]), array([0.5, 0.5]))\n",
      "3: (array([0.5, 0.5]), array([0.5, 0.5]))\n",
      "4: (array([0.5, 0.5]), array([0.5, 0.5]))\n"
     ]
    },
    {
     "data": {
      "image/png": "[encoded data removed]",
      "text/plain": [
       "<Figure size 432x288 with 1 Axes>"
      ]
     },
     "metadata": {
      "needs_background": "light"
     },
     "output_type": "display_data"
    }
   ],
   "source": [
    "# Matching pennies \n",
    "U1 = np.array([[1,-1],[-1,1]])\n",
    "U2 = np.array([[-1,1],[1,-1]])\n",
    "print(bimatrix.print_payoffs(U1, U2))\n",
    "\n",
    "plot_BR_functions_2x2(U1, U2)"
   ]
  }
 ],
 "metadata": {
  "kernelspec": {
   "display_name": "Python 3 (ipykernel)",
   "language": "python",
   "name": "python3"
  },
  "language_info": {
   "codemirror_mode": {
    "name": "ipython",
    "version": 3
   },
   "file_extension": ".py",
   "mimetype": "text/x-python",
   "name": "python",
   "nbconvert_exporter": "python",
   "pygments_lexer": "ipython3",
   "version": "3.9.7"
  }
 },
 "nbformat": 4,
 "nbformat_minor": 5
}
