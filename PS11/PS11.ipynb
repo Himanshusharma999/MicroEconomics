{
 "cells": [
  {
   "cell_type": "code",
   "execution_count": 2,
   "id": "98a3bbd9",
   "metadata": {},
   "outputs": [],
   "source": [
    "import numpy as np\n",
    "import matplotlib.pyplot as plt\n",
    "from statsmodels.distributions.empirical_distribution import ECDF "
   ]
  },
  {
   "cell_type": "code",
   "execution_count": 39,
   "id": "954f877a",
   "metadata": {},
   "outputs": [],
   "source": [
    "n = 5\n",
    "r = 10_000\n",
    "np.random.seed(1337)\n",
    "F_draw = np.random.gamma(1,2,(n,r))\n",
    "F_draw = np.sort(F_draw, axis=0)"
   ]
  },
  {
   "cell_type": "markdown",
   "id": "467962cf",
   "metadata": {},
   "source": [
    "### Q1"
   ]
  },
  {
   "cell_type": "markdown",
   "id": "934ab6e8",
   "metadata": {},
   "source": [
    "#### a)"
   ]
  },
  {
   "cell_type": "code",
   "execution_count": 55,
   "id": "7b105ef3",
   "metadata": {},
   "outputs": [
    {
     "data": {
      "image/png": "[encoded data removed]",
      "text/plain": [
       "<Figure size 640x480 with 1 Axes>"
      ]
     },
     "metadata": {},
     "output_type": "display_data"
    }
   ],
   "source": [
    "plt.hist(F_draw.flatten(), bins=100, density=True)\n",
    "plt.hist(F_draw[-1, :], bins=100, density=True)\n",
    "plt.hist(F_draw[-2, :], bins=100, density=True)\n",
    "plt.show()"
   ]
  },
  {
   "cell_type": "markdown",
   "id": "09f25d4c",
   "metadata": {},
   "source": [
    "#### b)"
   ]
  },
  {
   "cell_type": "code",
   "execution_count": 56,
   "id": "6fab46fa",
   "metadata": {},
   "outputs": [],
   "source": [
    "wb = F_draw[-1, :]\n",
    "price = F_draw[-2, :]\n",
    "SPSB = np.column_stack((wb,price))\n",
    "np.savetxt(\"SPSB.csv\", SPSB, delimiter=\",\")"
   ]
  },
  {
   "cell_type": "markdown",
   "id": "918fc0d4",
   "metadata": {},
   "source": [
    "### Q2"
   ]
  },
  {
   "cell_type": "code",
   "execution_count": 80,
   "id": "f9496c73",
   "metadata": {},
   "outputs": [],
   "source": [
    "data = np.random.gamma(1, 2, 13337)\n",
    "\n",
    "def predict_distribution(mu):\n",
    "    return np.mean(np.random.chisquare(mu, size=(5,20_000)), 0)"
   ]
  },
  {
   "cell_type": "code",
   "execution_count": 84,
   "id": "5994c1a5",
   "metadata": {},
   "outputs": [
    {
     "ename": "ValueError",
     "evalue": "df <= 0",
     "output_type": "error",
     "traceback": [
      "\u001b[1;31m---------------------------------------------------------------------------\u001b[0m",
      "\u001b[1;31mValueError\u001b[0m                                Traceback (most recent call last)",
      "Cell \u001b[1;32mIn[84], line 5\u001b[0m\n\u001b[0;32m      2\u001b[0m xx \u001b[38;5;241m=\u001b[39m np\u001b[38;5;241m.\u001b[39mlinspace(\u001b[38;5;241m0\u001b[39m, \u001b[38;5;241m10\u001b[39m, G)\n\u001b[0;32m      4\u001b[0m f_data \u001b[38;5;241m=\u001b[39m ECDF(data)\n\u001b[1;32m----> 5\u001b[0m f_chi \u001b[38;5;241m=\u001b[39m ECDF(predict_distribution(xx))\n",
      "Cell \u001b[1;32mIn[80], line 4\u001b[0m, in \u001b[0;36mpredict_distribution\u001b[1;34m(mu)\u001b[0m\n\u001b[0;32m      3\u001b[0m \u001b[38;5;28;01mdef\u001b[39;00m \u001b[38;5;21mpredict_distribution\u001b[39m(mu):\n\u001b[1;32m----> 4\u001b[0m     \u001b[38;5;28;01mreturn\u001b[39;00m np\u001b[38;5;241m.\u001b[39mmean(np\u001b[38;5;241m.\u001b[39mrandom\u001b[38;5;241m.\u001b[39mchisquare(mu, size\u001b[38;5;241m=\u001b[39m(\u001b[38;5;241m5\u001b[39m,\u001b[38;5;241m20_000\u001b[39m)), \u001b[38;5;241m0\u001b[39m)\n",
      "File \u001b[1;32mnumpy\\\\random\\\\mtrand.pyx:1981\u001b[0m, in \u001b[0;36mnumpy.random.mtrand.RandomState.chisquare\u001b[1;34m()\u001b[0m\n",
      "File \u001b[1;32m_common.pyx:596\u001b[0m, in \u001b[0;36mnumpy.random._common.cont\u001b[1;34m()\u001b[0m\n",
      "File \u001b[1;32m_common.pyx:468\u001b[0m, in \u001b[0;36mnumpy.random._common.cont_broadcast_1\u001b[1;34m()\u001b[0m\n",
      "File \u001b[1;32m_common.pyx:389\u001b[0m, in \u001b[0;36mnumpy.random._common.check_array_constraint\u001b[1;34m()\u001b[0m\n",
      "\u001b[1;31mValueError\u001b[0m: df <= 0"
     ]
    }
   ],
   "source": [
    "G = 50\n",
    "xx = np.linspace(0, 10, G)\n",
    "\n",
    "f_data = ECDF(data)"
   ]
  }
 ],
 "metadata": {
  "kernelspec": {
   "display_name": "Python 3 (ipykernel)",
   "language": "python",
   "name": "python3"
  },
  "language_info": {
   "codemirror_mode": {
    "name": "ipython",
    "version": 3
   },
   "file_extension": ".py",
   "mimetype": "text/x-python",
   "name": "python",
   "nbconvert_exporter": "python",
   "pygments_lexer": "ipython3",
   "version": "3.11.7"
  }
 },
 "nbformat": 4,
 "nbformat_minor": 5
}
