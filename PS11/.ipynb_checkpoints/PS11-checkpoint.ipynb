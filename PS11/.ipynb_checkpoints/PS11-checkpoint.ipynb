{
 "cells": [
  {
   "cell_type": "code",
   "execution_count": 8,
   "id": "68dad74d",
   "metadata": {},
   "outputs": [],
   "source": [
    "import numpy as np\n",
    "import matplotlib.pyplot as plt"
   ]
  },
  {
   "cell_type": "code",
   "execution_count": 17,
   "id": "488523b4",
   "metadata": {},
   "outputs": [],
   "source": [
    "F_draw = lambda n,r : np.random.gamma(1,2,(n,r))\n",
    "vv = F_draw(5, 10_00)"
   ]
  },
  {
   "cell_type": "code",
   "execution_count": null,
   "id": "ee31409e",
   "metadata": {},
   "outputs": [],
   "source": [
    "plt.hist(vv, bins=100)"
   ]
  }
 ],
 "metadata": {
  "kernelspec": {
   "display_name": "Python 3 (ipykernel)",
   "language": "python",
   "name": "python3"
  },
  "language_info": {
   "codemirror_mode": {
    "name": "ipython",
    "version": 3
   },
   "file_extension": ".py",
   "mimetype": "text/x-python",
   "name": "python",
   "nbconvert_exporter": "python",
   "pygments_lexer": "ipython3",
   "version": "3.11.7"
  }
 },
 "nbformat": 4,
 "nbformat_minor": 5
}
